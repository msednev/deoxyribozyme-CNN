{
 "cells": [
  {
   "cell_type": "code",
   "execution_count": 1,
   "id": "f5e36cad",
   "metadata": {},
   "outputs": [],
   "source": [
    "import numpy as np\n",
    "import pandas as pd\n",
    "import tensorflow as tf\n",
    "from scipy.stats import bernoulli\n",
    "from collections import defaultdict\n",
    "from tensorflow.keras import initializers, optimizers, layers, activations, Model, losses, metrics, callbacks\n",
    "from matplotlib import pyplot as plt\n",
    "from sklearn.metrics import classification_report, ConfusionMatrixDisplay, PrecisionRecallDisplay"
   ]
  },
  {
   "cell_type": "code",
   "execution_count": 2,
   "id": "f99c1bb5",
   "metadata": {},
   "outputs": [],
   "source": [
    "import os\n",
    "os.environ['TF_CPP_MIN_LOG_LEVEL'] = '2'"
   ]
  },
  {
   "cell_type": "code",
   "execution_count": 3,
   "id": "b9778f56",
   "metadata": {},
   "outputs": [],
   "source": [
    "SEED = 42\n",
    "tf.random.set_seed(SEED)\n",
    "np.random.seed(SEED)"
   ]
  },
  {
   "cell_type": "code",
   "execution_count": 4,
   "id": "19c704fd",
   "metadata": {},
   "outputs": [],
   "source": [
    "data_NU = pd.read_csv('../datasets/cleavage_NU.csv.gz') \\\n",
    "            .rename(columns={'junction': 'rna'}) \\\n",
    "            .query('sub_mod == \"U\" or sub_mod == \"psi\"') \\\n",
    "            .drop(['pos', 'total_reads'], axis=1)"
   ]
  },
  {
   "cell_type": "code",
   "execution_count": 5,
   "id": "edd845f6",
   "metadata": {},
   "outputs": [],
   "source": [
    "data_NC = pd.read_csv('../datasets/cleavage_NC.csv.gz')\n",
    "data_NC = data_NC.groupby(['core', 'sub_mod', 'rna']).agg({'FC': np.mean}).reset_index()"
   ]
  },
  {
   "cell_type": "code",
   "execution_count": 6,
   "id": "deddf8eb",
   "metadata": {},
   "outputs": [
    {
     "name": "stdout",
     "output_type": "stream",
     "text": [
      "Number of records: 34698\n"
     ]
    }
   ],
   "source": [
    "data = pd.concat([data_NC, data_NU]).sample(frac=1)\n",
    "print('Number of records: %d' % data_NU.shape[0])"
   ]
  },
  {
   "cell_type": "code",
   "execution_count": 7,
   "id": "17714888",
   "metadata": {},
   "outputs": [
    {
     "name": "stdout",
     "output_type": "stream",
     "text": [
      "Train size: 139275, Val size 37033, Test size 21272\n"
     ]
    }
   ],
   "source": [
    "data_test = data.sample(frac=0.1)\n",
    "data_train = data.drop(data_test.index)\n",
    "data_val = data_train.sample(frac=0.2)\n",
    "data_train = data_train.drop(data_val.index)\n",
    "print('Train size: %d, Val size %d, Test size %d' % (data_train.shape[0], data_val.shape[0], data_test.shape[0]))"
   ]
  },
  {
   "cell_type": "code",
   "execution_count": 8,
   "id": "976b8594",
   "metadata": {},
   "outputs": [],
   "source": [
    "def one_hot_core(seqs, letters='ACGT'):\n",
    "    enc = defaultdict(lambda: np.array([0.25] * len(letters)))\n",
    "    seqs_oh = []\n",
    "    for i, letter in enumerate(letters):\n",
    "        f = np.zeros(len(letters), dtype=np.int32)\n",
    "        f[i] = 1\n",
    "        enc[letter] = f\n",
    "    for seq in seqs:\n",
    "        one_hot_features = []\n",
    "        for c in seq:\n",
    "            one_hot_features.append(np.array(enc[c]))\n",
    "        seqs_oh.append(np.stack(one_hot_features).T)\n",
    "    return np.stack(seqs_oh).astype(np.float32)\n",
    "\n",
    "def one_hot_rna(rnas):\n",
    "    enc = {'AC': [1, 0, 0, 0, 0, 0, 0, 0],\n",
    "           'CC': [0, 1, 0, 0, 0, 0, 0, 0],\n",
    "           'GC': [0, 0, 1, 0, 0, 0, 0, 0],\n",
    "           'UC': [0, 0, 0, 1, 0, 0, 0, 0],\n",
    "           'AU': [0, 0, 0, 0, 1, 0, 0, 0],\n",
    "           'CU': [0, 0, 0, 0, 0, 1, 0, 0],\n",
    "           'GU': [0, 0, 0, 0, 0, 0, 1, 0],\n",
    "           'UU': [0, 0, 0, 0, 0, 0, 0, 1]}\n",
    "    rnas_oh = []\n",
    "    for rna in rnas:\n",
    "        rnas_oh.append(enc[rna])\n",
    "\n",
    "    return np.stack(rnas_oh).astype(np.float32)\n",
    "\n",
    "def one_hot_mod(mods):\n",
    "    enc = {'C':   [1, 0, 0, 0, 0, 0],\n",
    "           'm3C': [0, 1, 0, 0, 0, 0],\n",
    "           'm4C': [0, 0, 1, 0, 0, 0],\n",
    "           'm5C': [0, 0, 0, 1, 0, 0],\n",
    "           'U':   [0, 0, 0, 0, 1, 0],\n",
    "           'psi': [0, 0, 0, 0, 0, 1]}\n",
    "    mods_oh = []\n",
    "    for mod in mods:\n",
    "        mods_oh.append(enc[mod])\n",
    "    return np.stack(mods_oh).astype(np.float32)\n",
    "\n",
    "def pad(seq, seq_len):\n",
    "    left_fillchars = list('GACTAGTTAC')\n",
    "    right_fillchars = list('TTCATTCAGT')\n",
    "    result = list(seq)\n",
    "    while len(result) < seq_len:\n",
    "        if bernoulli.rvs(0.5):\n",
    "            result.insert(0, left_fillchars.pop())\n",
    "        else:\n",
    "            result.append(right_fillchars.pop(0))\n",
    "    return ''.join(result)\n",
    "\n",
    "def prepare_data(data, seq_len, threshold, batch_size):\n",
    "    core = one_hot_core(data['core'].apply(lambda x: pad(x, seq_len)))[..., np.newaxis]\n",
    "    rna = one_hot_rna(data['rna'].values)\n",
    "    mod = one_hot_mod(data['sub_mod'].values)\n",
    "    label = data['FC'].apply(lambda x: 0 if x < threshold else 1).values.astype(np.int32)\n",
    "    class_weight = {0: 1 / (np.sum(label == 0) / label.size) / 2,\n",
    "                    1: 1 / (np.sum(label == 1) / label.size) / 2}\n",
    "    bias = np.log(np.sum(label == 1) / np.sum(label == 0))\n",
    "    ds = tf.data.Dataset.from_tensor_slices(({'input_core': core, 'input_rna': rna, 'input_mod': mod}, label)).batch(batch_size)\n",
    "\n",
    "    return ds, class_weight, bias"
   ]
  },
  {
   "cell_type": "code",
   "execution_count": 9,
   "id": "3195898d",
   "metadata": {},
   "outputs": [],
   "source": [
    "SEQ_LENGTH = 24\n",
    "MOTIFS = 32\n",
    "MOTIF_LEN = 20\n",
    "THRESHOLD = 0.2\n",
    "BATCH_SIZE = 64\n",
    "\n",
    "train_ds, class_weight, bias = prepare_data(data_train, SEQ_LENGTH, THRESHOLD, BATCH_SIZE)\n",
    "val_ds, _, _ = prepare_data(data_val, SEQ_LENGTH, THRESHOLD, BATCH_SIZE)"
   ]
  },
  {
   "cell_type": "code",
   "execution_count": 10,
   "id": "07b867b7",
   "metadata": {},
   "outputs": [
    {
     "name": "stdout",
     "output_type": "stream",
     "text": [
      "class weights: 1: 4.695084951456311, 0: 0.5595935488536921 \n",
      "bias: -2.127060770919201\n"
     ]
    }
   ],
   "source": [
    "print(f'class weights: 1: {class_weight[1]}, 0: {class_weight[0]} \\nbias: {bias}')"
   ]
  },
  {
   "cell_type": "code",
   "execution_count": 11,
   "id": "c06dbe7c",
   "metadata": {},
   "outputs": [],
   "source": [
    "def get_model(seq_len, motifs, motif_len, bias):\n",
    "    input_core = layers.Input(shape=(4, seq_len, 1), name='input_core')\n",
    "    input_rna = layers.Input(shape=(8,), name='input_rna')\n",
    "    input_mod = layers.Input(shape=(6,), name='input_mod')\n",
    "\n",
    "    #motif_features\n",
    "    x = layers.Conv2D(filters=motifs,\n",
    "                    kernel_size=(4, motif_len),\n",
    "                    activation=activations.exponential, name='motif_scanner')(input_core)\n",
    "    x = layers.GlobalMaxPooling2D()(x)\n",
    "\n",
    "    conc = layers.Concatenate()([x, input_rna, input_mod])\n",
    "    conc = layers.Dense(64, activation='relu')(conc)\n",
    "    outputs = layers.Dense(1, activation='sigmoid',\n",
    "                           bias_initializer=initializers.Constant(bias))(conc)\n",
    "\n",
    "    return Model([input_core, input_rna, input_mod], outputs)"
   ]
  },
  {
   "cell_type": "code",
   "execution_count": 12,
   "id": "9d2c2fab",
   "metadata": {},
   "outputs": [],
   "source": [
    "model = get_model(SEQ_LENGTH, MOTIFS, MOTIF_LEN, bias=bias)"
   ]
  },
  {
   "cell_type": "code",
   "execution_count": 13,
   "id": "a2cd2736",
   "metadata": {},
   "outputs": [
    {
     "name": "stdout",
     "output_type": "stream",
     "text": [
      "Model: \"model\"\n",
      "__________________________________________________________________________________________________\n",
      "Layer (type)                    Output Shape         Param #     Connected to                     \n",
      "==================================================================================================\n",
      "input_core (InputLayer)         [(None, 4, 24, 1)]   0                                            \n",
      "__________________________________________________________________________________________________\n",
      "motif_scanner (Conv2D)          (None, 1, 5, 32)     2592        input_core[0][0]                 \n",
      "__________________________________________________________________________________________________\n",
      "global_max_pooling2d (GlobalMax (None, 32)           0           motif_scanner[0][0]              \n",
      "__________________________________________________________________________________________________\n",
      "input_rna (InputLayer)          [(None, 8)]          0                                            \n",
      "__________________________________________________________________________________________________\n",
      "input_mod (InputLayer)          [(None, 6)]          0                                            \n",
      "__________________________________________________________________________________________________\n",
      "concatenate (Concatenate)       (None, 46)           0           global_max_pooling2d[0][0]       \n",
      "                                                                 input_rna[0][0]                  \n",
      "                                                                 input_mod[0][0]                  \n",
      "__________________________________________________________________________________________________\n",
      "dense (Dense)                   (None, 64)           3008        concatenate[0][0]                \n",
      "__________________________________________________________________________________________________\n",
      "dense_1 (Dense)                 (None, 1)            65          dense[0][0]                      \n",
      "==================================================================================================\n",
      "Total params: 5,665\n",
      "Trainable params: 5,665\n",
      "Non-trainable params: 0\n",
      "__________________________________________________________________________________________________\n"
     ]
    }
   ],
   "source": [
    "model.summary()"
   ]
  },
  {
   "cell_type": "code",
   "execution_count": 14,
   "id": "ccf4ca34",
   "metadata": {},
   "outputs": [],
   "source": [
    "model.compile(optimizer=optimizers.Adam(learning_rate=5e-4),\n",
    "              loss=losses.BinaryCrossentropy(),\n",
    "              metrics=[metrics.AUC(name='roc'),\n",
    "                       metrics.AUC(curve='PR', name='pr')])"
   ]
  },
  {
   "cell_type": "code",
   "execution_count": 15,
   "id": "6484af91",
   "metadata": {},
   "outputs": [
    {
     "data": {
      "text/plain": [
       "0.06979786"
      ]
     },
     "execution_count": 15,
     "metadata": {},
     "output_type": "execute_result"
    }
   ],
   "source": [
    "np.mean(model(next(train_ds.as_numpy_iterator())[0]))"
   ]
  },
  {
   "cell_type": "code",
   "execution_count": 16,
   "id": "2d1f0aec",
   "metadata": {},
   "outputs": [],
   "source": [
    "history = model.fit(train_ds, validation_data=val_ds, epochs=200, verbose=0,\n",
    "                    class_weight=class_weight,\n",
    "                    callbacks=[callbacks.ReduceLROnPlateau(),\n",
    "                               callbacks.EarlyStopping(patience=20), \n",
    "                               tf.keras.callbacks.ModelCheckpoint(f'./models/deepbind_{THRESHOLD}.keras',\n",
    "                                                                  monitor='val_pr',\n",
    "                                                                  save_best_only=True)])"
   ]
  },
  {
   "cell_type": "code",
   "execution_count": 17,
   "id": "8fb70f7d",
   "metadata": {},
   "outputs": [
    {
     "data": {
      "text/plain": [
       "<matplotlib.legend.Legend at 0x7f002c6c0910>"
      ]
     },
     "execution_count": 17,
     "metadata": {},
     "output_type": "execute_result"
    },
    {
     "data": {
      "image/png": "[encoded data removed]",
      "text/plain": [
       "<Figure size 1152x360 with 3 Axes>"
      ]
     },
     "metadata": {
      "needs_background": "light"
     },
     "output_type": "display_data"
    }
   ],
   "source": [
    "plt.figure(figsize=(16, 5))\n",
    "plt.subplot(131)\n",
    "plt.plot(history.history['loss'], label='train loss')\n",
    "plt.plot(history.history['val_loss'], linestyle='--', label='val loss')\n",
    "plt.legend()\n",
    "\n",
    "plt.subplot(132)\n",
    "plt.plot(history.history['roc'], label='train roc')\n",
    "plt.plot(history.history['val_roc'], linestyle='--', label='val roc')\n",
    "plt.legend()\n",
    "\n",
    "plt.subplot(133)\n",
    "plt.plot(history.history['pr'], label='train pr')\n",
    "plt.plot(history.history['val_pr'], linestyle='--', label='val pr')\n",
    "plt.legend()"
   ]
  },
  {
   "cell_type": "code",
   "execution_count": 18,
   "id": "7a222e60",
   "metadata": {},
   "outputs": [],
   "source": [
    "test_ds, _, _ = prepare_data(data_val, SEQ_LENGTH, THRESHOLD, BATCH_SIZE)"
   ]
  },
  {
   "cell_type": "code",
   "execution_count": 19,
   "id": "15c039cc",
   "metadata": {},
   "outputs": [],
   "source": [
    "y_pred = model.predict(test_ds)\n",
    "y_true = np.concatenate([label for features, label in test_ds], axis=0)"
   ]
  },
  {
   "cell_type": "code",
   "execution_count": 20,
   "id": "76790685",
   "metadata": {},
   "outputs": [
    {
     "data": {
      "text/plain": [
       "<sklearn.metrics._plot.precision_recall_curve.PrecisionRecallDisplay at 0x7f002c4ddfd0>"
      ]
     },
     "execution_count": 20,
     "metadata": {},
     "output_type": "execute_result"
    },
    {
     "data": {
      "image/png": "[encoded data removed]",
      "text/plain": [
       "<Figure size 432x288 with 1 Axes>"
      ]
     },
     "metadata": {
      "needs_background": "light"
     },
     "output_type": "display_data"
    }
   ],
   "source": [
    "PrecisionRecallDisplay.from_predictions(y_true, y_pred, name='multiinput CNN classifier')"
   ]
  },
  {
   "cell_type": "code",
   "execution_count": 21,
   "id": "7d6094a9",
   "metadata": {},
   "outputs": [
    {
     "name": "stdout",
     "output_type": "stream",
     "text": [
      "              precision    recall  f1-score   support\n",
      "\n",
      "           0       0.98      0.98      0.98     33183\n",
      "           1       0.85      0.83      0.84      3850\n",
      "\n",
      "    accuracy                           0.97     37033\n",
      "   macro avg       0.92      0.91      0.91     37033\n",
      "weighted avg       0.97      0.97      0.97     37033\n",
      "\n"
     ]
    },
    {
     "data": {
      "image/png": "[encoded data removed]",
      "text/plain": [
       "<Figure size 432x288 with 2 Axes>"
      ]
     },
     "metadata": {
      "needs_background": "light"
     },
     "output_type": "display_data"
    }
   ],
   "source": [
    "CLF_THRESHOLD = 0.9\n",
    "print(classification_report(y_true, y_pred > CLF_THRESHOLD))\n",
    "ConfusionMatrixDisplay.from_predictions(y_true, y_pred > CLF_THRESHOLD);"
   ]
  }
 ],
 "metadata": {
  "kernelspec": {
   "display_name": "Python 3 (ipykernel)",
   "language": "python",
   "name": "python3"
  },
  "language_info": {
   "codemirror_mode": {
    "name": "ipython",
    "version": 3
   },
   "file_extension": ".py",
   "mimetype": "text/x-python",
   "name": "python",
   "nbconvert_exporter": "python",
   "pygments_lexer": "ipython3",
   "version": "3.9.9"
  }
 },
 "nbformat": 4,
 "nbformat_minor": 5
}
